{
 "cells": [
  {
   "cell_type": "markdown",
   "metadata": {},
   "source": [
    "### MNIST: the \"Hello World\" of Machine Learning"
   ]
  },
  {
   "cell_type": "code",
   "execution_count": 1,
   "metadata": {
    "collapsed": false
   },
   "outputs": [],
   "source": [
    "# Alternative local file loader (due to mldata.org being down)\n",
    "\n",
    "from scipy.io import loadmat\n",
    "mnist_raw = loadmat(\"mnist-original.mat\")\n",
    "mnist = {\n",
    "    \"data\": mnist_raw[\"data\"].T,\n",
    "    \"target\": mnist_raw[\"label\"][0],\n",
    "    \"COL_NAMES\": [\"label\", \"data\"],\n",
    "    \"DESCR\": \"mldata.org dataset: mnist-original\",\n",
    "    }"
   ]
  },
  {
   "cell_type": "code",
   "execution_count": 2,
   "metadata": {
    "collapsed": false
   },
   "outputs": [
    {
     "data": {
      "text/plain": [
       "{'COL_NAMES': ['label', 'data'],\n",
       " 'DESCR': 'mldata.org dataset: mnist-original',\n",
       " 'data': array([[0, 0, 0, ..., 0, 0, 0],\n",
       "        [0, 0, 0, ..., 0, 0, 0],\n",
       "        [0, 0, 0, ..., 0, 0, 0],\n",
       "        ..., \n",
       "        [0, 0, 0, ..., 0, 0, 0],\n",
       "        [0, 0, 0, ..., 0, 0, 0],\n",
       "        [0, 0, 0, ..., 0, 0, 0]], dtype=uint8),\n",
       " 'target': array([ 0.,  0.,  0., ...,  9.,  9.,  9.])}"
      ]
     },
     "execution_count": 2,
     "metadata": {},
     "output_type": "execute_result"
    }
   ],
   "source": [
    "# 70K images, 28x28 pixels/image, each pixel = 0 (white) to 255 (black)\n",
    "mnist # a dict object"
   ]
  },
  {
   "cell_type": "code",
   "execution_count": 3,
   "metadata": {
    "collapsed": false
   },
   "outputs": [
    {
     "data": {
      "text/plain": [
       "((70000, 784), (70000,))"
      ]
     },
     "execution_count": 3,
     "metadata": {},
     "output_type": "execute_result"
    }
   ],
   "source": [
    "# take a peek\n",
    "X,y = mnist['data'], mnist['target']\n",
    "\n",
    "X.shape, y.shape"
   ]
  },
  {
   "cell_type": "code",
   "execution_count": 4,
   "metadata": {
    "collapsed": false
   },
   "outputs": [
    {
     "data": {
      "image/png": "[encoded data removed]",
      "text/plain": [
       "<matplotlib.figure.Figure at 0x7f1ec21e12e8>"
      ]
     },
     "metadata": {},
     "output_type": "display_data"
    }
   ],
   "source": [
    "# display example image\n",
    "\n",
    "%matplotlib inline\n",
    "import matplotlib\n",
    "import matplotlib.pyplot as plt\n",
    "\n",
    "some_digit = X[36000]\n",
    "some_digit_image = some_digit.reshape(28, 28)\n",
    "\n",
    "plt.imshow(\n",
    "    some_digit_image, \n",
    "    cmap = matplotlib.cm.binary,\n",
    "    interpolation=\"nearest\")\n",
    "\n",
    "plt.axis(\"off\")\n",
    "plt.show()"
   ]
  },
  {
   "cell_type": "code",
   "execution_count": 5,
   "metadata": {
    "collapsed": false
   },
   "outputs": [
    {
     "data": {
      "text/plain": [
       "5.0"
      ]
     },
     "execution_count": 5,
     "metadata": {},
     "output_type": "execute_result"
    }
   ],
   "source": [
    "# looks like a \"five\". What's the corresponding label?\n",
    "y[36000]"
   ]
  },
  {
   "cell_type": "code",
   "execution_count": 6,
   "metadata": {
    "collapsed": false
   },
   "outputs": [
    {
     "name": "stdout",
     "output_type": "stream",
     "text": [
      "(60000, 784) (10000, 784) (60000,) (10000,)\n"
     ]
    }
   ],
   "source": [
    "# dataset already split into training (1st 60K) & test (last 10K) images.\n",
    "# shuffle training set for cross-validation quality\n",
    "\n",
    "X_train, X_test, y_train, y_test = X[:60000], X[60000:], y[:60000], y[60000:]\n",
    "\n",
    "import numpy as np\n",
    "\n",
    "shuffle_index = np.random.permutation(60000)\n",
    "X_train, y_train = X_train[shuffle_index], y_train[shuffle_index]\n",
    "\n",
    "print(X_train.shape, X_test.shape, y_train.shape, y_test.shape)"
   ]
  },
  {
   "cell_type": "markdown",
   "metadata": {},
   "source": [
    "### Binary classifier training - distinguish between 2 classes\n",
    "* Using Stochastic Descent"
   ]
  },
  {
   "cell_type": "code",
   "execution_count": 7,
   "metadata": {
    "collapsed": false
   },
   "outputs": [
    {
     "name": "stdout",
     "output_type": "stream",
     "text": [
      "(60000,) [False False False ..., False False False]\n",
      "(10000,) [False False False ..., False False False]\n",
      "[ True]\n"
     ]
    }
   ],
   "source": [
    "# Start by only trying to ID \"five\" digits.\n",
    "\n",
    "y_train_5 = (y_train == 5) # create target vectors\n",
    "y_test_5  = (y_test == 5)\n",
    "\n",
    "print(y_train_5.shape, y_train_5)\n",
    "print(y_test_5.shape, y_test_5)\n",
    "\n",
    "# SGD classifier: good at handling large DBs\n",
    "#                 also good at handling one-at-a-time learning\n",
    "\n",
    "from sklearn.linear_model import SGDClassifier\n",
    "sgd_clf = SGDClassifier(random_state=42)\n",
    "sgd_clf.fit(X_train, y_train_5)\n",
    "\n",
    "# did it correctly predict the \"five\" found above?\n",
    "print(sgd_clf.predict([some_digit]))"
   ]
  },
  {
   "cell_type": "markdown",
   "metadata": {},
   "source": [
    "### Performance Measures"
   ]
  },
  {
   "cell_type": "code",
   "execution_count": 8,
   "metadata": {
    "collapsed": false
   },
   "outputs": [
    {
     "name": "stdout",
     "output_type": "stream",
     "text": [
      "[ 0.96795  0.96975  0.96855]\n"
     ]
    }
   ],
   "source": [
    "# measure accuracy using K-fold (n=3) cross-validation scores\n",
    "\n",
    "from sklearn.model_selection import cross_val_score\n",
    "\n",
    "print(cross_val_score(\n",
    "        sgd_clf, \n",
    "        X_train, \n",
    "        y_train_5, \n",
    "        cv=3, \n",
    "        scoring=\"accuracy\"))\n",
    "\n",
    "# 90% accuracy = pretty easy when 90% of digits aren't fives to begin with ... :-|"
   ]
  },
  {
   "cell_type": "code",
   "execution_count": 9,
   "metadata": {
    "collapsed": false
   },
   "outputs": [
    {
     "name": "stdout",
     "output_type": "stream",
     "text": [
      "0.96795\n",
      "0.96975\n",
      "0.96855\n"
     ]
    }
   ],
   "source": [
    "# rolling your own cross-validation. Results should be similar-ish to above.\n",
    "\n",
    "from sklearn.model_selection import StratifiedKFold\n",
    "from sklearn.base import clone\n",
    "\n",
    "skfolds = StratifiedKFold(n_splits=3, random_state=42)\n",
    "\n",
    "for train_index, test_index in skfolds.split(X_train, y_train_5):\n",
    "    \n",
    "    clone_clf = clone(sgd_clf)\n",
    "    \n",
    "    X_train_folds =  X_train[train_index]\n",
    "    y_train_folds = (y_train_5[train_index])\n",
    "    X_test_fold =    X_train[test_index]\n",
    "    y_test_fold =   (y_train_5[test_index])\n",
    "\n",
    "    clone_clf.fit(X_train_folds, y_train_folds)\n",
    "    \n",
    "    y_pred = clone_clf.predict(X_test_fold)\n",
    "    \n",
    "    n_correct = sum(y_pred == y_test_fold)\n",
    "    print(n_correct / len(y_pred)) "
   ]
  },
  {
   "cell_type": "code",
   "execution_count": 10,
   "metadata": {
    "collapsed": false
   },
   "outputs": [
    {
     "name": "stdout",
     "output_type": "stream",
     "text": [
      "[ 0.9096   0.9124   0.90695]\n"
     ]
    }
   ],
   "source": [
    "# 95% accuracy sounds too good to be true. How about not-fives?\n",
    "\n",
    "from sklearn.base import BaseEstimator\n",
    "\n",
    "class Never5Classifier(BaseEstimator):\n",
    "    def fit(self, X, y=None):\n",
    "        pass\n",
    "\n",
    "    def predict(self, X):\n",
    "        return np.zeros((len(X), 1), dtype=bool)\n",
    "\n",
    "never_5_clf = Never5Classifier()\n",
    "\n",
    "print(cross_val_score(\n",
    "    never_5_clf,\n",
    "    X_train,\n",
    "    y_train_5,\n",
    "    cv=3,\n",
    "    scoring=\"accuracy\"))"
   ]
  },
  {
   "cell_type": "code",
   "execution_count": 11,
   "metadata": {
    "collapsed": true
   },
   "outputs": [],
   "source": [
    "# only ~10% of images are \"five\", so ~90% of images are \"not five\". \n",
    "# You SHOULD be right about 90% of the time. :-)\n",
    "\n",
    "# Lesson Learned:\n",
    "# Accuracy not a good metric for classifiers - esp those with skewed datasets."
   ]
  },
  {
   "cell_type": "markdown",
   "metadata": {},
   "source": [
    "### Confusion Matrix - a better way of evaluating a classifier"
   ]
  },
  {
   "cell_type": "code",
   "execution_count": 12,
   "metadata": {
    "collapsed": false
   },
   "outputs": [
    {
     "name": "stdout",
     "output_type": "stream",
     "text": [
      "[[54044   535]\n",
      " [ 1340  4081]]\n"
     ]
    }
   ],
   "source": [
    "# general idea: count #times instances of A are classified as B.\n",
    "# first, need a set of predictions.\n",
    "\n",
    "from sklearn.model_selection import cross_val_predict\n",
    "\n",
    "# Generate cross-val'd predictions for each datapoint\n",
    "y_train_pred = cross_val_predict(sgd_clf, X_train, y_train_5, cv=3)\n",
    "\n",
    "# ROWS = actual classes\n",
    "# COLS = predicted classes\n",
    "\n",
    "from sklearn.metrics import confusion_matrix\n",
    "\n",
    "print(confusion_matrix(y_train_5, y_train_pred))"
   ]
  },
  {
   "cell_type": "markdown",
   "metadata": {},
   "source": [
    "### Classifier metrics: precision = TP/(TP+FP); recall (sensitivity) = TP/(TP+FN)\n",
    "![alt text](pics/precision-recall-50pct.png \"Logo Title Text 1\")"
   ]
  },
  {
   "cell_type": "code",
   "execution_count": 13,
   "metadata": {
    "collapsed": false
   },
   "outputs": [
    {
     "name": "stdout",
     "output_type": "stream",
     "text": [
      "0.7171396564600448 0.7085408596199964\n"
     ]
    }
   ],
   "source": [
    "print(3841 / (3841+1515), 3841/(3841+1580))"
   ]
  },
  {
   "cell_type": "code",
   "execution_count": 14,
   "metadata": {
    "collapsed": false
   },
   "outputs": [
    {
     "name": "stdout",
     "output_type": "stream",
     "text": [
      "precision:\n",
      " 0.884098786828\n",
      "recall:\n",
      " 0.752813134108\n",
      "f1:\n",
      " 0.813191192587\n"
     ]
    }
   ],
   "source": [
    "# precision, recall, f1 metrics\n",
    "# precision/recall tradeoff: increasing one reduces the other.\n",
    "\n",
    "from sklearn.metrics import precision_score, recall_score, f1_score\n",
    "print(\"precision:\\n\",precision_score(y_train_5, y_train_pred))\n",
    "print(\"recall:\\n\",recall_score(y_train_5, y_train_pred))\n",
    "\n",
    "# F1 score favors classifiers with similar precision & recall.\n",
    "print(\"f1:\\n\",f1_score(y_train_5, y_train_pred))"
   ]
  },
  {
   "cell_type": "markdown",
   "metadata": {},
   "source": [
    "### Precision/Recall Tradeoffs"
   ]
  },
  {
   "cell_type": "code",
   "execution_count": 15,
   "metadata": {
    "collapsed": false
   },
   "outputs": [
    {
     "name": "stdout",
     "output_type": "stream",
     "text": [
      "[ 57844.42736708]\n",
      "[ True]\n"
     ]
    }
   ],
   "source": [
    "# Scikit doesn't let you directly set threshold values (which drive the decision\n",
    "# function for precision/recall.) But you can use the decision function itself.\n",
    "\n",
    "y_scores = sgd_clf.decision_function([some_digit])\n",
    "print(y_scores)\n",
    "\n",
    "threshold = 0\n",
    "y_some_digit_pred = (y_scores > threshold) \n",
    "print(y_some_digit_pred)"
   ]
  },
  {
   "cell_type": "code",
   "execution_count": 16,
   "metadata": {
    "collapsed": false
   },
   "outputs": [
    {
     "name": "stdout",
     "output_type": "stream",
     "text": [
      "[False]\n"
     ]
    }
   ],
   "source": [
    "# raising the threshold reduces recall...\n",
    "\n",
    "threshold = 200000\n",
    "y_some_digit_pred = (y_scores > threshold)\n",
    "print(y_some_digit_pred)"
   ]
  },
  {
   "cell_type": "markdown",
   "metadata": {},
   "source": [
    "![tradeoff](pics/decision-threshold-and-precision-vs-recall.png)"
   ]
  },
  {
   "cell_type": "code",
   "execution_count": 17,
   "metadata": {
    "collapsed": false
   },
   "outputs": [
    {
     "data": {
      "image/png": "[encoded data removed]",
      "text/plain": [
       "<matplotlib.figure.Figure at 0x7f1eb69e0208>"
      ]
     },
     "metadata": {},
     "output_type": "display_data"
    }
   ],
   "source": [
    "# how to find the right threshold?\n",
    "# start with getting decision scores instead of predictions.\n",
    "\n",
    "y_scores = cross_val_predict(\n",
    "    sgd_clf, \n",
    "    X_train, \n",
    "    y_train_5, \n",
    "    cv=3,\n",
    "    method=\"decision_function\")\n",
    "\n",
    "# use results to build a precision/recall curve\n",
    "\n",
    "from sklearn.metrics import precision_recall_curve\n",
    "precisions, recalls, thresholds = precision_recall_curve(y_train_5, y_scores)\n",
    "\n",
    "# plot the result\n",
    "\n",
    "def plot_precision_recall_vs_threshold(precisions, recalls, thresholds):\n",
    "    plt.plot(thresholds, \n",
    "             precisions[:-1], \n",
    "             \"b--\", \n",
    "             label=\"Precision\")\n",
    "    plt.plot(thresholds, \n",
    "             recalls[:-1], \n",
    "             \"g-\", \n",
    "             label=\"Recall\")\n",
    "    plt.xlabel(\"Threshold\")\n",
    "    plt.legend(loc=\"upper left\")\n",
    "    plt.ylim([0, 1])\n",
    "\n",
    "plot_precision_recall_vs_threshold(precisions, recalls, thresholds)\n",
    "plt.show()"
   ]
  },
  {
   "cell_type": "code",
   "execution_count": 18,
   "metadata": {
    "collapsed": false
   },
   "outputs": [
    {
     "data": {
      "image/png": "[encoded data removed]",
      "text/plain": [
       "<matplotlib.figure.Figure at 0x7f1eb69e0ac8>"
      ]
     },
     "metadata": {},
     "output_type": "display_data"
    }
   ],
   "source": [
    "# plot precision vs recall to look for knee of the curve\n",
    "\n",
    "def plot_precision_vs_recall(precisions, recalls):\n",
    "    plt.plot(recalls, precisions, \"b-\", linewidth=2)\n",
    "    plt.xlabel(\"Recall\", fontsize=16)\n",
    "    plt.ylabel(\"Precision\", fontsize=16)\n",
    "    plt.axis([0, 1, 0, 1])\n",
    "\n",
    "plt.figure(figsize=(10, 4))\n",
    "plot_precision_vs_recall(precisions, recalls)\n",
    "plt.show()"
   ]
  },
  {
   "cell_type": "code",
   "execution_count": 19,
   "metadata": {
    "collapsed": false
   },
   "outputs": [
    {
     "name": "stdout",
     "output_type": "stream",
     "text": [
      "(60000,) [False False False ..., False False False]\n",
      "precision:\n",
      " 0.924948770492\n",
      "recall:\n",
      " 0.666113263236\n"
     ]
    }
   ],
   "source": [
    "# assume you're targeting 90% precision:\n",
    "# guesswork from precision-recall curve suggests setting threshold ~50000\n",
    "\n",
    "y_train_pred_90 = (y_scores > 50000)\n",
    "print(y_train_pred_90.shape, y_train_pred_90)\n",
    "\n",
    "print(\"precision:\\n\",precision_score(y_train_5, y_train_pred_90))\n",
    "print(\"recall:\\n\",recall_score(y_train_5, y_train_pred_90))"
   ]
  },
  {
   "cell_type": "markdown",
   "metadata": {},
   "source": [
    "### ROC (Receiver Operating Characteristic) curve"
   ]
  },
  {
   "cell_type": "code",
   "execution_count": 20,
   "metadata": {
    "collapsed": false
   },
   "outputs": [
    {
     "data": {
      "image/png": "[encoded data removed]",
      "text/plain": [
       "<matplotlib.figure.Figure at 0x7f1eb68d8128>"
      ]
     },
     "metadata": {},
     "output_type": "display_data"
    }
   ],
   "source": [
    "# ROC plots TRUE POSITIVE rate (TP = recall) vs FALSE POSITIVE rate. (FP = 1-specificity)\n",
    "\n",
    "from sklearn.metrics import roc_curve\n",
    "fpr, tpr, thresholds = roc_curve(y_train_5, y_scores)\n",
    "\n",
    "def plot_roc_curve(fpr, tpr, label=None):\n",
    "    plt.plot(fpr, tpr, linewidth=2, label=label)\n",
    "    plt.plot([0, 1], [0, 1], 'k--')\n",
    "    plt.axis([0, 1, 0, 1])\n",
    "    plt.xlabel('False Positive Rate')\n",
    "    plt.ylabel('True Positive Rate')\n",
    "\n",
    "plot_roc_curve(fpr, tpr)\n",
    "plt.show()\n",
    "\n",
    "# tradeoff: higher recall (TP) => more false positives produced.\n",
    "# dotted line = purely random classifier results."
   ]
  },
  {
   "cell_type": "code",
   "execution_count": 21,
   "metadata": {
    "collapsed": false
   },
   "outputs": [
    {
     "name": "stdout",
     "output_type": "stream",
     "text": [
      "0.964880839199\n"
     ]
    }
   ],
   "source": [
    "# area under curve (AUC) metric:\n",
    "# perfect score = ROC AUC = 1.0\n",
    "# random score = ROC AUC = 0.5\n",
    "\n",
    "from sklearn.metrics import roc_auc_score\n",
    "print(roc_auc_score(y_train_5, y_scores))"
   ]
  },
  {
   "cell_type": "code",
   "execution_count": 22,
   "metadata": {
    "collapsed": false
   },
   "outputs": [
    {
     "data": {
      "image/png": "[encoded data removed]",
      "text/plain": [
       "<matplotlib.figure.Figure at 0x7f1eb6958dd8>"
      ]
     },
     "metadata": {},
     "output_type": "display_data"
    }
   ],
   "source": [
    "# train Random Forest classifier\n",
    "# compare its ROC curve & AUC to SGD classifier\n",
    "\n",
    "from sklearn.ensemble import RandomForestClassifier\n",
    "\n",
    "forest_clf = RandomForestClassifier(random_state=42)\n",
    "\n",
    "# Random Forest doesn't have decision_function(); use predict_proba() instead.\n",
    "# returns array (row per instance, column per class)\n",
    "\n",
    "y_probas_forest = cross_val_predict(\n",
    "    forest_clf, \n",
    "    X_train, \n",
    "    y_train_5, \n",
    "    cv=3,\n",
    "    method=\"predict_proba\")\n",
    "\n",
    "# To plot ROC curve, you need scores - not probabilities.\n",
    "# use positive class probability as the score.\n",
    "\n",
    "y_scores_forest = y_probas_forest[:, 1]\n",
    "fpr_forest, tpr_forest, thresholds_forest = roc_curve(y_train_5,y_scores_forest)\n",
    "\n",
    "# plot ROC curve\n",
    "plt.plot(fpr, tpr, \"b:\", label=\"SGD\")\n",
    "plot_roc_curve(fpr_forest, tpr_forest, \"Random Forest\")\n",
    "plt.legend(loc=\"lower right\")\n",
    "plt.show()"
   ]
  },
  {
   "cell_type": "code",
   "execution_count": 23,
   "metadata": {
    "collapsed": false
   },
   "outputs": [
    {
     "name": "stdout",
     "output_type": "stream",
     "text": [
      "0.992589481683\n",
      "0.985567461185\n",
      "0.831396421324\n"
     ]
    }
   ],
   "source": [
    "# Random Forest curve looks much steeper (better). How's the ROC AUC score?\n",
    "print(roc_auc_score(y_train_5, y_scores_forest))\n",
    "\n",
    "# How's the precision & recall?\n",
    "y_train_pred_forest = cross_val_predict(\n",
    "    forest_clf, \n",
    "    X_train, \n",
    "    y_train_5, \n",
    "    cv=3)\n",
    "\n",
    "print(precision_score(y_train_5, y_train_pred_forest))\n",
    "print(recall_score(y_train_5, y_train_pred_forest))\n"
   ]
  },
  {
   "cell_type": "markdown",
   "metadata": {},
   "source": [
    "### Multiclass Classification"
   ]
  },
  {
   "cell_type": "code",
   "execution_count": 24,
   "metadata": {
    "collapsed": false
   },
   "outputs": [
    {
     "name": "stdout",
     "output_type": "stream",
     "text": [
      "[ 5.]\n"
     ]
    }
   ],
   "source": [
    "# some algorithms (RF, Bayes, ..) can handle multiple classes\n",
    "# others (SVMs, linear, ...) cannot\n",
    "\n",
    "# one-vs-all (OVA) strategy for 0-9 digit classication:\n",
    "# 10 binary classifiers, one for each digit -- select class with highest score\n",
    "\n",
    "# one-vs-one (OVO) strategy:\n",
    "# train classifiers for every PAIR of digits -- N*(N-1)/2 classifiers needed!\n",
    "\n",
    "# Scikit detects using binary classifier when multi-class problem is present,\n",
    "# auto-selects OVA.\n",
    "\n",
    "sgd_clf.fit(X_train, y_train)\n",
    "print(sgd_clf.predict([some_digit])) # can SGD correctly predict the \"five\"?"
   ]
  },
  {
   "cell_type": "code",
   "execution_count": 25,
   "metadata": {
    "collapsed": false
   },
   "outputs": [
    {
     "name": "stdout",
     "output_type": "stream",
     "text": [
      "[[-177277.32782496 -561668.18573184 -385895.43788059 -114677.95360751\n",
      "  -410210.58824666   57844.42736708 -654717.63929413 -200777.6510135\n",
      "  -772154.70175904 -614737.18986655]]\n",
      "[ 0.  1.  2.  3.  4.  5.  6.  7.  8.  9.]\n"
     ]
    }
   ],
   "source": [
    "# let's see 10 scores, one per class. \n",
    "# highest score corresponds to \"five\".\n",
    "\n",
    "some_digit_scores = sgd_clf.decision_function([some_digit])\n",
    "print(some_digit_scores)\n",
    "print(sgd_clf.classes_)"
   ]
  },
  {
   "cell_type": "code",
   "execution_count": 26,
   "metadata": {
    "collapsed": false
   },
   "outputs": [
    {
     "name": "stdout",
     "output_type": "stream",
     "text": [
      "prediction:\n",
      " [ 5.]\n",
      "prediction via Random Forest:\n",
      " [ 5.]\n",
      "probability via Random Forest:\n",
      " [[ 0.1  0.   0.   0.1  0.   0.8  0.   0.   0.   0. ]]\n"
     ]
    }
   ],
   "source": [
    "# to force Scikit to use OVO (in this case) or OVA: use corresponding classifier.\n",
    "\n",
    "from sklearn.multiclass import OneVsOneClassifier\n",
    "\n",
    "ovo_clf = OneVsOneClassifier(SGDClassifier(random_state=42))\n",
    "ovo_clf.fit(X_train, y_train)\n",
    "print(\"prediction:\\n\",ovo_clf.predict([some_digit]))\n",
    "\n",
    "# same thing for Random Forest (RF can directly handle multiple classifications)\n",
    "forest_clf.fit(X_train, y_train)\n",
    "print(\"prediction via Random Forest:\\n\",forest_clf.predict([some_digit]))\n",
    "print(\"probability via Random Forest:\\n\",forest_clf.predict_proba([some_digit]))"
   ]
  },
  {
   "cell_type": "code",
   "execution_count": 27,
   "metadata": {
    "collapsed": false
   },
   "outputs": [
    {
     "name": "stdout",
     "output_type": "stream",
     "text": [
      "CV score:\n",
      " [ 0.84843031  0.85419271  0.81062159]\n"
     ]
    }
   ],
   "source": [
    "# let's check these classifiers via CV. SGD first.\n",
    "\n",
    "print(\"CV score:\\n\",cross_val_score(\n",
    "    sgd_clf, \n",
    "    X_train, \n",
    "    y_train, \n",
    "    cv=3, \n",
    "    scoring=\"accuracy\"))"
   ]
  },
  {
   "cell_type": "code",
   "execution_count": 28,
   "metadata": {
    "collapsed": false
   },
   "outputs": [
    {
     "name": "stdout",
     "output_type": "stream",
     "text": [
      "CV score, scaled inputs:\n",
      " [ 0.91011798  0.91089554  0.90908636]\n"
     ]
    }
   ],
   "source": [
    "# scaling the inputs should help improve the scores.\n",
    "\n",
    "from sklearn.preprocessing import StandardScaler\n",
    "scaler = StandardScaler()\n",
    "\n",
    "X_train_scaled = scaler.fit_transform(X_train.astype(np.float64))\n",
    "\n",
    "print(\"CV score, scaled inputs:\\n\",cross_val_score(\n",
    "    sgd_clf, \n",
    "    X_train_scaled, \n",
    "    y_train, \n",
    "    cv=3, \n",
    "    scoring=\"accuracy\"))"
   ]
  },
  {
   "cell_type": "markdown",
   "metadata": {},
   "source": [
    "### Error Analysis"
   ]
  },
  {
   "cell_type": "code",
   "execution_count": 29,
   "metadata": {
    "collapsed": false
   },
   "outputs": [
    {
     "name": "stdout",
     "output_type": "stream",
     "text": [
      "confusion matrix:\n",
      " [[5735    4   24   11   13   45   43    8   37    3]\n",
      " [   1 6489   43   24    6   35    8    8  116   12]\n",
      " [  57   38 5329   88   79   27   92   60  174   14]\n",
      " [  53   41  140 5333    2  234   35   60  142   91]\n",
      " [  17   26   36   10 5371    8   48   30   77  219]\n",
      " [  69   38   39  185   76 4600  114   28  175   97]\n",
      " [  34   24   42    2   41   95 5625    7   48    0]\n",
      " [  22   21   64   31   49    9    8 5792   14  255]\n",
      " [  54  157   70  148   14  158   58   28 5029  135]\n",
      " [  42   37   25   85  155   36    2  193   75 5299]]\n"
     ]
    },
    {
     "data": {
      "image/png": "[encoded data removed]",
      "text/plain": [
       "<matplotlib.figure.Figure at 0x7f1eb68d8cc0>"
      ]
     },
     "metadata": {},
     "output_type": "display_data"
    }
   ],
   "source": [
    "# as earlier: a confusion matrix from the SGD classificer\n",
    "\n",
    "y_train_pred = cross_val_predict(\n",
    "    sgd_clf, \n",
    "    X_train_scaled, \n",
    "    y_train, \n",
    "    cv=3)\n",
    "\n",
    "conf_mx = confusion_matrix(y_train, y_train_pred)\n",
    "print(\"confusion matrix:\\n\",conf_mx)\n",
    "\n",
    "# image equivalent\n",
    "plt.matshow(conf_mx, cmap=plt.cm.gray)\n",
    "plt.show()"
   ]
  },
  {
   "cell_type": "code",
   "execution_count": 30,
   "metadata": {
    "collapsed": false
   },
   "outputs": [
    {
     "data": {
      "image/png": "[encoded data removed]",
      "text/plain": [
       "<matplotlib.figure.Figure at 0x7f1eb1f6f5f8>"
      ]
     },
     "metadata": {},
     "output_type": "display_data"
    }
   ],
   "source": [
    "# focus on errors.\n",
    "# 1st: divide each value in confusion matrix by #images in corresponding class\n",
    "# (compares error rates instead of #errors)\n",
    "\n",
    "row_sums = conf_mx.sum(axis=1, keepdims=True)\n",
    "norm_conf_mx = conf_mx / row_sums\n",
    "\n",
    "# fill diagonals with zeroes to keep only the errors, and plot.\n",
    "# brighter colors = more misclassifications\n",
    "\n",
    "np.fill_diagonal(norm_conf_mx, 0)\n",
    "plt.matshow(norm_conf_mx, cmap=plt.cm.gray)\n",
    "plt.show()\n",
    "\n",
    "# rows = actual classes\n",
    "# cols = predicted classes\n",
    "# 8s & 9s are a problem."
   ]
  },
  {
   "cell_type": "code",
   "execution_count": 31,
   "metadata": {
    "collapsed": false
   },
   "outputs": [
    {
     "data": {
      "image/png": "[encoded data removed]",
      "text/plain": [
       "<matplotlib.figure.Figure at 0x7f1eb69c1a58>"
      ]
     },
     "metadata": {},
     "output_type": "display_data"
    }
   ],
   "source": [
    "# more on analyzing individual errors\n",
    "\n",
    "# EXTRA\n",
    "def plot_digits(instances, images_per_row=10, **options):\n",
    "    size = 28\n",
    "    images_per_row = min(len(instances), images_per_row)\n",
    "    images = [instance.reshape(size,size) for instance in instances]\n",
    "    n_rows = (len(instances) - 1) // images_per_row + 1\n",
    "    row_images = []\n",
    "    n_empty = n_rows * images_per_row - len(instances)\n",
    "    images.append(np.zeros((size, size * n_empty)))\n",
    "    for row in range(n_rows):\n",
    "        rimages = images[row * images_per_row : (row + 1) * images_per_row]\n",
    "        row_images.append(np.concatenate(rimages, axis=1))\n",
    "    image = np.concatenate(row_images, axis=0)\n",
    "    plt.imshow(image, cmap = matplotlib.cm.binary, **options)\n",
    "    plt.axis(\"off\")\n",
    "\n",
    "cl_a, cl_b = 3, 5\n",
    "\n",
    "X_aa = X_train[(y_train == cl_a) & (y_train_pred == cl_a)]\n",
    "X_ab = X_train[(y_train == cl_a) & (y_train_pred == cl_b)]\n",
    "X_ba = X_train[(y_train == cl_b) & (y_train_pred == cl_a)]\n",
    "X_bb = X_train[(y_train == cl_b) & (y_train_pred == cl_b)]\n",
    "\n",
    "plt.figure(figsize=(8,8))\n",
    "plt.subplot(221); plot_digits(X_aa[:25], images_per_row=5)\n",
    "plt.subplot(222); plot_digits(X_ab[:25], images_per_row=5)\n",
    "plt.subplot(223); plot_digits(X_ba[:25], images_per_row=5)\n",
    "plt.subplot(224); plot_digits(X_bb[:25], images_per_row=5)\n",
    "plt.show()\n",
    "\n",
    "# shows difficulty in seeing difference between threes and fives.\n",
    "# We used SGDclassifier, which is sensitive to image shifts/rotates."
   ]
  },
  {
   "cell_type": "markdown",
   "metadata": {},
   "source": [
    "### MultiLabel Classification"
   ]
  },
  {
   "cell_type": "code",
   "execution_count": 32,
   "metadata": {
    "collapsed": false
   },
   "outputs": [
    {
     "name": "stdout",
     "output_type": "stream",
     "text": [
      "large nums?\n",
      " [False False  True ..., False False False]\n",
      "odd nums?\n",
      " [False False  True ..., False False False]\n",
      "combined (multilabel)?\n",
      " [[False False]\n",
      " [False False]\n",
      " [ True  True]\n",
      " ..., \n",
      " [False False]\n",
      " [False False]\n",
      " [False False]]\n",
      "KNN prediction of some_digit: (>=7? odd?)\n",
      " [[False  True]]\n"
     ]
    }
   ],
   "source": [
    "# use case: returning multiple classes for each instance\n",
    "# (example: multiple people's faces in one picture.)\n",
    "\n",
    "# create y_multilabel array with 2 target labels for each digit image:\n",
    "# first = large digit (7,8,9)?; second = odd (1,3,5,7,9)?\n",
    "\n",
    "\n",
    "from sklearn.neighbors import KNeighborsClassifier\n",
    "\n",
    "y_train_large = (y_train >= 7)\n",
    "y_train_odd = (y_train % 2 == 1)\n",
    "\n",
    "print(\"large nums?\\n\",y_train_large)\n",
    "print(\"odd nums?\\n\",y_train_odd)\n",
    "\n",
    "y_multilabel = np.c_[y_train_large, y_train_odd]\n",
    "\n",
    "print(\"combined (multilabel)?\\n\",y_multilabel)\n",
    "\n",
    "# KNeighbors classifier supports multilabeling\n",
    "\n",
    "knn_clf = KNeighborsClassifier()\n",
    "knn_clf.fit(X_train, y_multilabel)\n",
    "\n",
    "# make example prediction using \"some_digit\" from above\n",
    "# >= 7 = false (correct); odd digit = true (correct)\n",
    "\n",
    "print(\"KNN prediction of some_digit: (>=7? odd?)\\n\",knn_clf.predict([some_digit]))\n"
   ]
  },
  {
   "cell_type": "code",
   "execution_count": 33,
   "metadata": {
    "collapsed": false
   },
   "outputs": [
    {
     "name": "stdout",
     "output_type": "stream",
     "text": [
      "0.968186511757\n"
     ]
    }
   ],
   "source": [
    "# another example: find avg F1 score across all labels\n",
    "\n",
    "y_train_knn_pred = cross_val_predict(knn_clf, X_train, y_train, cv=3)\n",
    "\n",
    "print(f1_score(\n",
    "    y_train, \n",
    "    y_train_knn_pred, \n",
    "    average=\"macro\")) # use \"weighted\" if more weight to be given to more common labels."
   ]
  },
  {
   "cell_type": "markdown",
   "metadata": {},
   "source": [
    "### MultiOutput Classification"
   ]
  },
  {
   "cell_type": "code",
   "execution_count": 36,
   "metadata": {
    "collapsed": false
   },
   "outputs": [],
   "source": [
    "# generalization of multilabel, where each label can have multiple values.\n",
    "# example: build image noise removal system\n",
    "\n",
    "# start by adding noise to MNIST dataset\n",
    "\n",
    "import numpy.random as rnd\n",
    "\n",
    "noise = rnd.randint(0, 100, (len(X_train), 784))\n",
    "X_train_mod = X_train + noise\n",
    "noise = rnd.randint(0, 100, (len(X_test), 784))\n",
    "X_test_mod = X_test + noise\n",
    "\n",
    "y_train_mod = X_train\n",
    "y_test_mod = X_test\n",
    "\n",
    "some_index = 5500"
   ]
  },
  {
   "cell_type": "code",
   "execution_count": 40,
   "metadata": {
    "collapsed": true
   },
   "outputs": [],
   "source": [
    "def plot_digit(data):\n",
    "    image = data.reshape(28, 28)\n",
    "    plt.imshow(image, cmap = matplotlib.cm.binary,\n",
    "               interpolation=\"nearest\")\n",
    "    plt.axis(\"off\")"
   ]
  },
  {
   "cell_type": "code",
   "execution_count": 41,
   "metadata": {
    "collapsed": false
   },
   "outputs": [
    {
     "data": {
      "image/png": "[encoded data removed]",
      "text/plain": [
       "<matplotlib.figure.Figure at 0x7f1eb41df6a0>"
      ]
     },
     "metadata": {},
     "output_type": "display_data"
    }
   ],
   "source": [
    "# train classifier, and clean up the image\n",
    "knn_clf.fit(X_train_mod, y_train_mod)\n",
    "clean_digit = knn_clf.predict([X_test_mod[some_index]])\n",
    "\n",
    "plot_digit(clean_digit)"
   ]
  },
  {
   "cell_type": "code",
   "execution_count": 42,
   "metadata": {
    "collapsed": false
   },
   "outputs": [
    {
     "data": {
      "image/png": "[encoded data removed]",
      "text/plain": [
       "<matplotlib.figure.Figure at 0x7f1eb40a7c88>"
      ]
     },
     "metadata": {},
     "output_type": "display_data"
    }
   ],
   "source": [
    "some_index = 5500\n",
    "\n",
    "plt.subplot(121); plot_digit(X_test_mod[some_index])\n",
    "plt.subplot(122); plot_digit(y_test_mod[some_index])\n",
    "#save_fig(\"noisy_digit_example_plot\")\n",
    "plt.show()\n",
    "\n",
    "# left: noisy image; right: cleaned up"
   ]
  },
  {
   "cell_type": "code",
   "execution_count": null,
   "metadata": {
    "collapsed": true
   },
   "outputs": [],
   "source": []
  }
 ],
 "metadata": {
  "kernelspec": {
   "display_name": "Python [Root]",
   "language": "python",
   "name": "Python [Root]"
  },
  "language_info": {
   "codemirror_mode": {
    "name": "ipython",
    "version": 3
   },
   "file_extension": ".py",
   "mimetype": "text/x-python",
   "name": "python",
   "nbconvert_exporter": "python",
   "pygments_lexer": "ipython3",
   "version": "3.5.2"
  }
 },
 "nbformat": 4,
 "nbformat_minor": 2
}
